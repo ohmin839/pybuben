{
 "cells": [
  {
   "cell_type": "code",
   "execution_count": 1,
   "id": "851de281",
   "metadata": {},
   "outputs": [],
   "source": [
    "from pybuben.api import to_aybuben, to_hayeren_word_set, to_hayeren_word_dict"
   ]
  },
  {
   "cell_type": "code",
   "execution_count": 2,
   "id": "f7e1db91",
   "metadata": {},
   "outputs": [
    {
     "name": "stdout",
     "output_type": "stream",
     "text": [
      "Բարև Ձեզ։\n"
     ]
    }
   ],
   "source": [
    "converted_line  = to_aybuben('Barev Dzez:')\n",
    "print(converted_line)"
   ]
  },
  {
   "cell_type": "code",
   "execution_count": 3,
   "id": "21631832",
   "metadata": {},
   "outputs": [
    {
     "name": "stdout",
     "output_type": "stream",
     "text": [
      "Մեր Հայրենիք, ազատ անկախ,\n",
      "Որ ապրել է դարեդար\n",
      "Յուր որդիքյ արդ կանչում են\n",
      "Ազատ, անկախ Հայաստան։\n",
      "\n",
      "Ահա եղբայր քեզ մի դրոշ,\n",
      "Որ իմ ձեռքով գործեցի\n",
      "Գիշերներյ ես քուն չեղայ,\n",
      "Արզասուքով լվացի։\n",
      "\n",
      "Նայիր նրան՝ երեք գոյնով,\n",
      "Նուիրական մեր նսջան\n",
      "Թող փեղփողի թշնամու դեմ\n",
      "Թող միսպտ պանծայ Հայաստան։\n",
      "\n",
      "Ամենայն տեղ մահը մի է\n",
      "Մարդ մի անգամ պիտ մեռնի,\n",
      "Բայց երանի՝ որ յուր ազգի\n",
      "Ազատության կզոհվի։\n",
      "\n"
     ]
    }
   ],
   "source": [
    "with open('../../pybuben-core/anthem_ascii.txt') as f:\n",
    "    converted_text = to_aybuben(f.read())\n",
    "    print(converted_text)"
   ]
  },
  {
   "cell_type": "code",
   "execution_count": 4,
   "id": "cc414941",
   "metadata": {},
   "outputs": [
    {
     "name": "stdout",
     "output_type": "stream",
     "text": [
      "Մեր\n",
      "Հայրենիք\n",
      "ազատ\n",
      "անկախ\n",
      "Որ\n",
      "ապրել\n",
      "է\n",
      "դարեդար\n",
      "Յուր\n",
      "որդիքյ\n",
      "արդ\n",
      "կանչում\n",
      "են\n",
      "Ազատ\n",
      "Հայաստան\n",
      "Ահա\n",
      "եղբայր\n",
      "քեզ\n",
      "մի\n",
      "դրոշ\n",
      "իմ\n",
      "ձեռքով\n",
      "գործեցի\n",
      "Գիշերներյ\n",
      "ես\n",
      "քուն\n",
      "չեղայ\n",
      "Արզասուքով\n",
      "լվացի\n",
      "Նայիր\n",
      "նրան\n",
      "երեք\n",
      "գոյնով\n",
      "Նուիրական\n",
      "մեր\n",
      "նսջան\n",
      "Թող\n",
      "փեղփողի\n",
      "թշնամու\n",
      "դեմ\n",
      "միսպտ\n",
      "պանծայ\n",
      "Ամենայն\n",
      "տեղ\n",
      "մահը\n",
      "Մարդ\n",
      "անգամ\n",
      "պիտ\n",
      "մեռնի\n",
      "Բայց\n",
      "երանի\n",
      "որ\n",
      "յուր\n",
      "ազգի\n",
      "Ազատության\n",
      "կզոհվի\n"
     ]
    }
   ],
   "source": [
    "word_set = to_hayeren_word_set(converted_text)\n",
    "for word in word_set:\n",
    "    print(word)"
   ]
  },
  {
   "cell_type": "code",
   "execution_count": 5,
   "id": "780b1760",
   "metadata": {},
   "outputs": [
    {
     "name": "stdout",
     "output_type": "stream",
     "text": [
      "Մեր: 1\n",
      "Հայրենիք: 1\n",
      "ազատ: 1\n",
      "անկախ: 2\n",
      "Որ: 2\n",
      "ապրել: 1\n",
      "է: 2\n",
      "դարեդար: 1\n",
      "Յուր: 1\n",
      "որդիքյ: 1\n",
      "արդ: 1\n",
      "կանչում: 1\n",
      "են: 1\n",
      "Ազատ: 1\n",
      "Հայաստան: 2\n",
      "Ահա: 1\n",
      "եղբայր: 1\n",
      "քեզ: 1\n",
      "մի: 3\n",
      "դրոշ: 1\n",
      "իմ: 1\n",
      "ձեռքով: 1\n",
      "գործեցի: 1\n",
      "Գիշերներյ: 1\n",
      "ես: 1\n",
      "քուն: 1\n",
      "չեղայ: 1\n",
      "Արզասուքով: 1\n",
      "լվացի: 1\n",
      "Նայիր: 1\n",
      "նրան: 1\n",
      "երեք: 1\n",
      "գոյնով: 1\n",
      "Նուիրական: 1\n",
      "մեր: 1\n",
      "նսջան: 1\n",
      "Թող: 2\n",
      "փեղփողի: 1\n",
      "թշնամու: 1\n",
      "դեմ: 1\n",
      "միսպտ: 1\n",
      "պանծայ: 1\n",
      "Ամենայն: 1\n",
      "տեղ: 1\n",
      "մահը: 1\n",
      "Մարդ: 1\n",
      "անգամ: 1\n",
      "պիտ: 1\n",
      "մեռնի: 1\n",
      "Բայց: 1\n",
      "երանի: 1\n",
      "որ: 1\n",
      "յուր: 1\n",
      "ազգի: 1\n",
      "Ազատության: 1\n",
      "կզոհվի: 1\n"
     ]
    }
   ],
   "source": [
    "word_dict = to_hayeren_word_dict(converted_text)\n",
    "for k, v in word_dict.items():\n",
    "    print(f\"{k}: {v}\")"
   ]
  },
  {
   "cell_type": "code",
   "execution_count": null,
   "id": "6d28e993",
   "metadata": {},
   "outputs": [],
   "source": []
  }
 ],
 "metadata": {
  "kernelspec": {
   "display_name": "Python 3 (ipykernel)",
   "language": "python",
   "name": "python3"
  },
  "language_info": {
   "codemirror_mode": {
    "name": "ipython",
    "version": 3
   },
   "file_extension": ".py",
   "mimetype": "text/x-python",
   "name": "python",
   "nbconvert_exporter": "python",
   "pygments_lexer": "ipython3",
   "version": "3.7.13"
  }
 },
 "nbformat": 4,
 "nbformat_minor": 5
}
